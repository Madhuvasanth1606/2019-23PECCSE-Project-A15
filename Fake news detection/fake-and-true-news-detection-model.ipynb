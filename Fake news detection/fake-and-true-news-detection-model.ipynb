{
 "cells": [
  {
   "cell_type": "code",
   "execution_count": 2,
   "id": "6ad6b353",
   "metadata": {
    "_cell_guid": "b1076dfc-b9ad-4769-8c92-a6c4dae69d19",
    "_uuid": "8f2839f25d086af736a60e9eeb907d3b93b6e0e5",
    "execution": {
     "iopub.execute_input": "2023-02-08T07:46:21.413329Z",
     "iopub.status.busy": "2023-02-08T07:46:21.412691Z",
     "iopub.status.idle": "2023-02-08T07:46:21.434272Z",
     "shell.execute_reply": "2023-02-08T07:46:21.433483Z"
    },
    "papermill": {
     "duration": 0.034697,
     "end_time": "2023-02-08T07:46:21.437044",
     "exception": false,
     "start_time": "2023-02-08T07:46:21.402347",
     "status": "completed"
    },
    "tags": []
   },
   "outputs": [],
   "source": [
    "import numpy as np \n",
    "import pandas as pd \n",
    "import os\n",
    "for dirname, _, filenames in os.walk('input'):\n",
    "    for filename in filenames:\n",
    "        print(os.path.join(dirname, filename))\n",
    "\n"
   ]
  },
  {
   "cell_type": "code",
   "execution_count": 3,
   "id": "2d632449",
   "metadata": {
    "execution": {
     "iopub.execute_input": "2023-02-08T07:46:21.456366Z",
     "iopub.status.busy": "2023-02-08T07:46:21.455960Z",
     "iopub.status.idle": "2023-02-08T07:46:22.792240Z",
     "shell.execute_reply": "2023-02-08T07:46:22.791015Z"
    },
    "papermill": {
     "duration": 1.350252,
     "end_time": "2023-02-08T07:46:22.794956",
     "exception": false,
     "start_time": "2023-02-08T07:46:21.444704",
     "status": "completed"
    },
    "tags": []
   },
   "outputs": [],
   "source": [
    "import matplotlib.pyplot as plt\n",
    "from sklearn.model_selection import train_test_split\n",
    "from sklearn.metrics import accuracy_score\n",
    "from sklearn.metrics import classification_report, confusion_matrix, ConfusionMatrixDisplay\n",
    "from sklearn.feature_extraction.text import TfidfVectorizer\n",
    "from sklearn.linear_model import PassiveAggressiveClassifier, LogisticRegression\n",
    "from sklearn.tree import DecisionTreeClassifier\n",
    "from sklearn.neighbors import KNeighborsClassifier\n",
    "from xgboost import XGBClassifier"
   ]
  },
  {
   "cell_type": "code",
   "execution_count": 4,
   "id": "98d0e4e5",
   "metadata": {
    "execution": {
     "iopub.execute_input": "2023-02-08T07:46:22.811352Z",
     "iopub.status.busy": "2023-02-08T07:46:22.810298Z",
     "iopub.status.idle": "2023-02-08T07:46:25.662722Z",
     "shell.execute_reply": "2023-02-08T07:46:25.661435Z"
    },
    "papermill": {
     "duration": 2.862882,
     "end_time": "2023-02-08T07:46:25.664989",
     "exception": false,
     "start_time": "2023-02-08T07:46:22.802107",
     "status": "completed"
    },
    "tags": []
   },
   "outputs": [
    {
     "data": {
      "text/html": [
       "<div>\n",
       "<style scoped>\n",
       "    .dataframe tbody tr th:only-of-type {\n",
       "        vertical-align: middle;\n",
       "    }\n",
       "\n",
       "    .dataframe tbody tr th {\n",
       "        vertical-align: top;\n",
       "    }\n",
       "\n",
       "    .dataframe thead th {\n",
       "        text-align: right;\n",
       "    }\n",
       "</style>\n",
       "<table border=\"1\" class=\"dataframe\">\n",
       "  <thead>\n",
       "    <tr style=\"text-align: right;\">\n",
       "      <th></th>\n",
       "      <th>title</th>\n",
       "      <th>text</th>\n",
       "      <th>subject</th>\n",
       "      <th>date</th>\n",
       "    </tr>\n",
       "  </thead>\n",
       "  <tbody>\n",
       "    <tr>\n",
       "      <th>0</th>\n",
       "      <td>Donald Trump Sends Out Embarrassing New Year’...</td>\n",
       "      <td>Donald Trump just couldn t wish all Americans ...</td>\n",
       "      <td>News</td>\n",
       "      <td>December 31, 2017</td>\n",
       "    </tr>\n",
       "    <tr>\n",
       "      <th>1</th>\n",
       "      <td>Drunk Bragging Trump Staffer Started Russian ...</td>\n",
       "      <td>House Intelligence Committee Chairman Devin Nu...</td>\n",
       "      <td>News</td>\n",
       "      <td>December 31, 2017</td>\n",
       "    </tr>\n",
       "    <tr>\n",
       "      <th>2</th>\n",
       "      <td>Sheriff David Clarke Becomes An Internet Joke...</td>\n",
       "      <td>On Friday, it was revealed that former Milwauk...</td>\n",
       "      <td>News</td>\n",
       "      <td>December 30, 2017</td>\n",
       "    </tr>\n",
       "    <tr>\n",
       "      <th>3</th>\n",
       "      <td>Trump Is So Obsessed He Even Has Obama’s Name...</td>\n",
       "      <td>On Christmas day, Donald Trump announced that ...</td>\n",
       "      <td>News</td>\n",
       "      <td>December 29, 2017</td>\n",
       "    </tr>\n",
       "    <tr>\n",
       "      <th>4</th>\n",
       "      <td>Pope Francis Just Called Out Donald Trump Dur...</td>\n",
       "      <td>Pope Francis used his annual Christmas Day mes...</td>\n",
       "      <td>News</td>\n",
       "      <td>December 25, 2017</td>\n",
       "    </tr>\n",
       "  </tbody>\n",
       "</table>\n",
       "</div>"
      ],
      "text/plain": [
       "                                               title  \\\n",
       "0   Donald Trump Sends Out Embarrassing New Year’...   \n",
       "1   Drunk Bragging Trump Staffer Started Russian ...   \n",
       "2   Sheriff David Clarke Becomes An Internet Joke...   \n",
       "3   Trump Is So Obsessed He Even Has Obama’s Name...   \n",
       "4   Pope Francis Just Called Out Donald Trump Dur...   \n",
       "\n",
       "                                                text subject  \\\n",
       "0  Donald Trump just couldn t wish all Americans ...    News   \n",
       "1  House Intelligence Committee Chairman Devin Nu...    News   \n",
       "2  On Friday, it was revealed that former Milwauk...    News   \n",
       "3  On Christmas day, Donald Trump announced that ...    News   \n",
       "4  Pope Francis used his annual Christmas Day mes...    News   \n",
       "\n",
       "                date  \n",
       "0  December 31, 2017  \n",
       "1  December 31, 2017  \n",
       "2  December 30, 2017  \n",
       "3  December 29, 2017  \n",
       "4  December 25, 2017  "
      ]
     },
     "execution_count": 4,
     "metadata": {},
     "output_type": "execute_result"
    }
   ],
   "source": [
    "fake=pd.read_csv(\"D:/Dowload D/Fake_News_Detection-master/jupyter code/Fake.csv\")\n",
    "true=pd.read_csv(\"D:/Dowload D/Fake_News_Detection-master/jupyter code/True.csv\")\n",
    "fake.head()"
   ]
  },
  {
   "cell_type": "code",
   "execution_count": 5,
   "id": "865417bc",
   "metadata": {
    "execution": {
     "iopub.execute_input": "2023-02-08T07:46:25.694391Z",
     "iopub.status.busy": "2023-02-08T07:46:25.694004Z",
     "iopub.status.idle": "2023-02-08T07:46:25.744706Z",
     "shell.execute_reply": "2023-02-08T07:46:25.743525Z"
    },
    "papermill": {
     "duration": 0.061428,
     "end_time": "2023-02-08T07:46:25.747215",
     "exception": false,
     "start_time": "2023-02-08T07:46:25.685787",
     "status": "completed"
    },
    "tags": []
   },
   "outputs": [
    {
     "name": "stdout",
     "output_type": "stream",
     "text": [
      "<class 'pandas.core.frame.DataFrame'>\n",
      "RangeIndex: 23481 entries, 0 to 23480\n",
      "Data columns (total 4 columns):\n",
      " #   Column   Non-Null Count  Dtype \n",
      "---  ------   --------------  ----- \n",
      " 0   title    23481 non-null  object\n",
      " 1   text     23481 non-null  object\n",
      " 2   subject  23481 non-null  object\n",
      " 3   date     23481 non-null  object\n",
      "dtypes: object(4)\n",
      "memory usage: 733.9+ KB\n",
      "<class 'pandas.core.frame.DataFrame'>\n",
      "RangeIndex: 21417 entries, 0 to 21416\n",
      "Data columns (total 4 columns):\n",
      " #   Column   Non-Null Count  Dtype \n",
      "---  ------   --------------  ----- \n",
      " 0   title    21417 non-null  object\n",
      " 1   text     21417 non-null  object\n",
      " 2   subject  21417 non-null  object\n",
      " 3   date     21417 non-null  object\n",
      "dtypes: object(4)\n",
      "memory usage: 669.4+ KB\n"
     ]
    },
    {
     "data": {
      "text/plain": [
       "(None, None)"
      ]
     },
     "execution_count": 5,
     "metadata": {},
     "output_type": "execute_result"
    }
   ],
   "source": [
    "fake.info(), true.info()"
   ]
  },
  {
   "cell_type": "markdown",
   "id": "e7599739",
   "metadata": {
    "papermill": {
     "duration": 0.006972,
     "end_time": "2023-02-08T07:46:25.761241",
     "exception": false,
     "start_time": "2023-02-08T07:46:25.754269",
     "status": "completed"
    },
    "tags": []
   },
   "source": [
    "\n",
    "# There is no null value in the datasets"
   ]
  },
  {
   "cell_type": "code",
   "execution_count": 6,
   "id": "92720922",
   "metadata": {
    "execution": {
     "iopub.execute_input": "2023-02-08T07:46:25.777606Z",
     "iopub.status.busy": "2023-02-08T07:46:25.776736Z",
     "iopub.status.idle": "2023-02-08T07:46:25.787088Z",
     "shell.execute_reply": "2023-02-08T07:46:25.785999Z"
    },
    "jupyter": {
     "outputs_hidden": true
    },
    "papermill": {
     "duration": 0.021177,
     "end_time": "2023-02-08T07:46:25.789484",
     "exception": false,
     "start_time": "2023-02-08T07:46:25.768307",
     "status": "completed"
    },
    "tags": []
   },
   "outputs": [
    {
     "name": "stderr",
     "output_type": "stream",
     "text": [
      "C:\\Users\\Admin\\AppData\\Local\\Temp\\ipykernel_6284\\1271111993.py:3: SettingWithCopyWarning: \n",
      "A value is trying to be set on a copy of a slice from a DataFrame.\n",
      "Try using .loc[row_indexer,col_indexer] = value instead\n",
      "\n",
      "See the caveats in the documentation: https://pandas.pydata.org/pandas-docs/stable/user_guide/indexing.html#returning-a-view-versus-a-copy\n",
      "  fake_df['label']=0\n",
      "C:\\Users\\Admin\\AppData\\Local\\Temp\\ipykernel_6284\\1271111993.py:4: SettingWithCopyWarning: \n",
      "A value is trying to be set on a copy of a slice from a DataFrame.\n",
      "Try using .loc[row_indexer,col_indexer] = value instead\n",
      "\n",
      "See the caveats in the documentation: https://pandas.pydata.org/pandas-docs/stable/user_guide/indexing.html#returning-a-view-versus-a-copy\n",
      "  true_df['label']=1\n"
     ]
    }
   ],
   "source": [
    "fake_df=fake[['text']]\n",
    "true_df=true[['text']]\n",
    "fake_df['label']=0\n",
    "true_df['label']=1"
   ]
  },
  {
   "cell_type": "markdown",
   "id": "5bc709da",
   "metadata": {
    "papermill": {
     "duration": 0.006845,
     "end_time": "2023-02-08T07:46:25.804512",
     "exception": false,
     "start_time": "2023-02-08T07:46:25.797667",
     "status": "completed"
    },
    "tags": []
   },
   "source": [
    "# All we need are just text and label (! I added the label myself )"
   ]
  },
  {
   "cell_type": "code",
   "execution_count": 7,
   "id": "88bebb08",
   "metadata": {
    "execution": {
     "iopub.execute_input": "2023-02-08T07:46:25.820975Z",
     "iopub.status.busy": "2023-02-08T07:46:25.820207Z",
     "iopub.status.idle": "2023-02-08T07:46:25.841282Z",
     "shell.execute_reply": "2023-02-08T07:46:25.840147Z"
    },
    "papermill": {
     "duration": 0.031855,
     "end_time": "2023-02-08T07:46:25.843615",
     "exception": false,
     "start_time": "2023-02-08T07:46:25.811760",
     "status": "completed"
    },
    "tags": []
   },
   "outputs": [
    {
     "data": {
      "text/html": [
       "<div>\n",
       "<style scoped>\n",
       "    .dataframe tbody tr th:only-of-type {\n",
       "        vertical-align: middle;\n",
       "    }\n",
       "\n",
       "    .dataframe tbody tr th {\n",
       "        vertical-align: top;\n",
       "    }\n",
       "\n",
       "    .dataframe thead th {\n",
       "        text-align: right;\n",
       "    }\n",
       "</style>\n",
       "<table border=\"1\" class=\"dataframe\">\n",
       "  <thead>\n",
       "    <tr style=\"text-align: right;\">\n",
       "      <th></th>\n",
       "      <th>text</th>\n",
       "      <th>label</th>\n",
       "    </tr>\n",
       "  </thead>\n",
       "  <tbody>\n",
       "    <tr>\n",
       "      <th>15956</th>\n",
       "      <td>SARAJEVO (Reuters) - A Bosnian Serb man was ar...</td>\n",
       "      <td>1</td>\n",
       "    </tr>\n",
       "    <tr>\n",
       "      <th>19677</th>\n",
       "      <td>This is truly a chilling story of organized vo...</td>\n",
       "      <td>0</td>\n",
       "    </tr>\n",
       "    <tr>\n",
       "      <th>4455</th>\n",
       "      <td>WASHINGTON/LOS ANGELES/NEW YORK (Reuters) - W...</td>\n",
       "      <td>1</td>\n",
       "    </tr>\n",
       "    <tr>\n",
       "      <th>123</th>\n",
       "      <td>WASHINGTON (Reuters) - A compromise Republican...</td>\n",
       "      <td>1</td>\n",
       "    </tr>\n",
       "    <tr>\n",
       "      <th>731</th>\n",
       "      <td>Anthony Scaramucci is a terrible communication...</td>\n",
       "      <td>0</td>\n",
       "    </tr>\n",
       "    <tr>\n",
       "      <th>14130</th>\n",
       "      <td>JOHANNESBURG (Reuters) - South Africa s Deputy...</td>\n",
       "      <td>1</td>\n",
       "    </tr>\n",
       "    <tr>\n",
       "      <th>8431</th>\n",
       "      <td>At some point, Republicans learned that they c...</td>\n",
       "      <td>0</td>\n",
       "    </tr>\n",
       "  </tbody>\n",
       "</table>\n",
       "</div>"
      ],
      "text/plain": [
       "                                                    text  label\n",
       "15956  SARAJEVO (Reuters) - A Bosnian Serb man was ar...      1\n",
       "19677  This is truly a chilling story of organized vo...      0\n",
       "4455    WASHINGTON/LOS ANGELES/NEW YORK (Reuters) - W...      1\n",
       "123    WASHINGTON (Reuters) - A compromise Republican...      1\n",
       "731    Anthony Scaramucci is a terrible communication...      0\n",
       "14130  JOHANNESBURG (Reuters) - South Africa s Deputy...      1\n",
       "8431   At some point, Republicans learned that they c...      0"
      ]
     },
     "execution_count": 7,
     "metadata": {},
     "output_type": "execute_result"
    }
   ],
   "source": [
    "data=pd.concat([fake_df,true_df], axis=0)\n",
    "data=data.sample(frac=0.7)\n",
    "data.tail(7)"
   ]
  },
  {
   "cell_type": "markdown",
   "id": "212e6802",
   "metadata": {
    "papermill": {
     "duration": 0.007155,
     "end_time": "2023-02-08T07:46:25.858649",
     "exception": false,
     "start_time": "2023-02-08T07:46:25.851494",
     "status": "completed"
    },
    "tags": []
   },
   "source": [
    "# Adding and randomizing process of two datasets"
   ]
  },
  {
   "cell_type": "code",
   "execution_count": 8,
   "id": "aaf33623",
   "metadata": {
    "execution": {
     "iopub.execute_input": "2023-02-08T07:46:25.874920Z",
     "iopub.status.busy": "2023-02-08T07:46:25.874506Z",
     "iopub.status.idle": "2023-02-08T07:46:25.889826Z",
     "shell.execute_reply": "2023-02-08T07:46:25.889043Z"
    },
    "papermill": {
     "duration": 0.026189,
     "end_time": "2023-02-08T07:46:25.892038",
     "exception": false,
     "start_time": "2023-02-08T07:46:25.865849",
     "status": "completed"
    },
    "tags": []
   },
   "outputs": [
    {
     "data": {
      "text/html": [
       "<div>\n",
       "<style scoped>\n",
       "    .dataframe tbody tr th:only-of-type {\n",
       "        vertical-align: middle;\n",
       "    }\n",
       "\n",
       "    .dataframe tbody tr th {\n",
       "        vertical-align: top;\n",
       "    }\n",
       "\n",
       "    .dataframe thead th {\n",
       "        text-align: right;\n",
       "    }\n",
       "</style>\n",
       "<table border=\"1\" class=\"dataframe\">\n",
       "  <thead>\n",
       "    <tr style=\"text-align: right;\">\n",
       "      <th></th>\n",
       "      <th>text</th>\n",
       "      <th>label</th>\n",
       "    </tr>\n",
       "  </thead>\n",
       "  <tbody>\n",
       "    <tr>\n",
       "      <th>0</th>\n",
       "      <td>CAIRO (Reuters) - Islamic State threatened att...</td>\n",
       "      <td>1</td>\n",
       "    </tr>\n",
       "    <tr>\n",
       "      <th>1</th>\n",
       "      <td>WASHINGTON (Reuters) - The U.S. Congress, rush...</td>\n",
       "      <td>1</td>\n",
       "    </tr>\n",
       "    <tr>\n",
       "      <th>2</th>\n",
       "      <td>LONDON (Reuters) - British negotiators are sti...</td>\n",
       "      <td>1</td>\n",
       "    </tr>\n",
       "    <tr>\n",
       "      <th>3</th>\n",
       "      <td>The following statements were posted to the ve...</td>\n",
       "      <td>1</td>\n",
       "    </tr>\n",
       "    <tr>\n",
       "      <th>4</th>\n",
       "      <td>What a great time for Joe Biden to announce. H...</td>\n",
       "      <td>0</td>\n",
       "    </tr>\n",
       "  </tbody>\n",
       "</table>\n",
       "</div>"
      ],
      "text/plain": [
       "                                                text  label\n",
       "0  CAIRO (Reuters) - Islamic State threatened att...      1\n",
       "1  WASHINGTON (Reuters) - The U.S. Congress, rush...      1\n",
       "2  LONDON (Reuters) - British negotiators are sti...      1\n",
       "3  The following statements were posted to the ve...      1\n",
       "4  What a great time for Joe Biden to announce. H...      0"
      ]
     },
     "execution_count": 8,
     "metadata": {},
     "output_type": "execute_result"
    }
   ],
   "source": [
    "df=data.reset_index()\n",
    "df.drop(['index'], axis=1, inplace=True)\n",
    "df.head()"
   ]
  },
  {
   "cell_type": "code",
   "execution_count": 9,
   "id": "49920205",
   "metadata": {
    "execution": {
     "iopub.execute_input": "2023-02-08T07:46:25.909866Z",
     "iopub.status.busy": "2023-02-08T07:46:25.908942Z",
     "iopub.status.idle": "2023-02-08T07:46:25.913482Z",
     "shell.execute_reply": "2023-02-08T07:46:25.912717Z"
    },
    "papermill": {
     "duration": 0.015467,
     "end_time": "2023-02-08T07:46:25.915517",
     "exception": false,
     "start_time": "2023-02-08T07:46:25.900050",
     "status": "completed"
    },
    "tags": []
   },
   "outputs": [],
   "source": [
    "X=df['text']\n",
    "y=df['label']"
   ]
  },
  {
   "cell_type": "code",
   "execution_count": 10,
   "id": "5cb42b6d",
   "metadata": {
    "execution": {
     "iopub.execute_input": "2023-02-08T07:46:25.956877Z",
     "iopub.status.busy": "2023-02-08T07:46:25.956521Z",
     "iopub.status.idle": "2023-02-08T07:46:25.966915Z",
     "shell.execute_reply": "2023-02-08T07:46:25.965872Z"
    },
    "papermill": {
     "duration": 0.022089,
     "end_time": "2023-02-08T07:46:25.969387",
     "exception": false,
     "start_time": "2023-02-08T07:46:25.947298",
     "status": "completed"
    },
    "tags": []
   },
   "outputs": [],
   "source": [
    "x_train, x_test, y_train, y_test= train_test_split(X, y, test_size=0.2, random_state=7)"
   ]
  },
  {
   "cell_type": "code",
   "execution_count": 11,
   "id": "306e7081",
   "metadata": {
    "execution": {
     "iopub.execute_input": "2023-02-08T07:46:25.987068Z",
     "iopub.status.busy": "2023-02-08T07:46:25.986704Z",
     "iopub.status.idle": "2023-02-08T07:46:35.974472Z",
     "shell.execute_reply": "2023-02-08T07:46:35.973396Z"
    },
    "papermill": {
     "duration": 10.000438,
     "end_time": "2023-02-08T07:46:35.977890",
     "exception": false,
     "start_time": "2023-02-08T07:46:25.977452",
     "status": "completed"
    },
    "tags": []
   },
   "outputs": [],
   "source": [
    "tfid_vectorizer=TfidfVectorizer(stop_words='english', max_df=0.7)\n",
    "train_tfid=tfid_vectorizer.fit_transform(x_train)\n",
    "test_tfid=tfid_vectorizer.transform(x_test)"
   ]
  },
  {
   "cell_type": "code",
   "execution_count": 12,
   "id": "25ad1bda",
   "metadata": {
    "execution": {
     "iopub.execute_input": "2023-02-08T07:46:36.000684Z",
     "iopub.status.busy": "2023-02-08T07:46:36.000266Z",
     "iopub.status.idle": "2023-02-08T07:46:36.313195Z",
     "shell.execute_reply": "2023-02-08T07:46:36.312061Z"
    },
    "papermill": {
     "duration": 0.325437,
     "end_time": "2023-02-08T07:46:36.315500",
     "exception": false,
     "start_time": "2023-02-08T07:46:35.990063",
     "status": "completed"
    },
    "tags": []
   },
   "outputs": [
    {
     "data": {
      "text/html": [
       "<style>#sk-container-id-1 {color: black;background-color: white;}#sk-container-id-1 pre{padding: 0;}#sk-container-id-1 div.sk-toggleable {background-color: white;}#sk-container-id-1 label.sk-toggleable__label {cursor: pointer;display: block;width: 100%;margin-bottom: 0;padding: 0.3em;box-sizing: border-box;text-align: center;}#sk-container-id-1 label.sk-toggleable__label-arrow:before {content: \"▸\";float: left;margin-right: 0.25em;color: #696969;}#sk-container-id-1 label.sk-toggleable__label-arrow:hover:before {color: black;}#sk-container-id-1 div.sk-estimator:hover label.sk-toggleable__label-arrow:before {color: black;}#sk-container-id-1 div.sk-toggleable__content {max-height: 0;max-width: 0;overflow: hidden;text-align: left;background-color: #f0f8ff;}#sk-container-id-1 div.sk-toggleable__content pre {margin: 0.2em;color: black;border-radius: 0.25em;background-color: #f0f8ff;}#sk-container-id-1 input.sk-toggleable__control:checked~div.sk-toggleable__content {max-height: 200px;max-width: 100%;overflow: auto;}#sk-container-id-1 input.sk-toggleable__control:checked~label.sk-toggleable__label-arrow:before {content: \"▾\";}#sk-container-id-1 div.sk-estimator input.sk-toggleable__control:checked~label.sk-toggleable__label {background-color: #d4ebff;}#sk-container-id-1 div.sk-label input.sk-toggleable__control:checked~label.sk-toggleable__label {background-color: #d4ebff;}#sk-container-id-1 input.sk-hidden--visually {border: 0;clip: rect(1px 1px 1px 1px);clip: rect(1px, 1px, 1px, 1px);height: 1px;margin: -1px;overflow: hidden;padding: 0;position: absolute;width: 1px;}#sk-container-id-1 div.sk-estimator {font-family: monospace;background-color: #f0f8ff;border: 1px dotted black;border-radius: 0.25em;box-sizing: border-box;margin-bottom: 0.5em;}#sk-container-id-1 div.sk-estimator:hover {background-color: #d4ebff;}#sk-container-id-1 div.sk-parallel-item::after {content: \"\";width: 100%;border-bottom: 1px solid gray;flex-grow: 1;}#sk-container-id-1 div.sk-label:hover label.sk-toggleable__label {background-color: #d4ebff;}#sk-container-id-1 div.sk-serial::before {content: \"\";position: absolute;border-left: 1px solid gray;box-sizing: border-box;top: 0;bottom: 0;left: 50%;z-index: 0;}#sk-container-id-1 div.sk-serial {display: flex;flex-direction: column;align-items: center;background-color: white;padding-right: 0.2em;padding-left: 0.2em;position: relative;}#sk-container-id-1 div.sk-item {position: relative;z-index: 1;}#sk-container-id-1 div.sk-parallel {display: flex;align-items: stretch;justify-content: center;background-color: white;position: relative;}#sk-container-id-1 div.sk-item::before, #sk-container-id-1 div.sk-parallel-item::before {content: \"\";position: absolute;border-left: 1px solid gray;box-sizing: border-box;top: 0;bottom: 0;left: 50%;z-index: -1;}#sk-container-id-1 div.sk-parallel-item {display: flex;flex-direction: column;z-index: 1;position: relative;background-color: white;}#sk-container-id-1 div.sk-parallel-item:first-child::after {align-self: flex-end;width: 50%;}#sk-container-id-1 div.sk-parallel-item:last-child::after {align-self: flex-start;width: 50%;}#sk-container-id-1 div.sk-parallel-item:only-child::after {width: 0;}#sk-container-id-1 div.sk-dashed-wrapped {border: 1px dashed gray;margin: 0 0.4em 0.5em 0.4em;box-sizing: border-box;padding-bottom: 0.4em;background-color: white;}#sk-container-id-1 div.sk-label label {font-family: monospace;font-weight: bold;display: inline-block;line-height: 1.2em;}#sk-container-id-1 div.sk-label-container {text-align: center;}#sk-container-id-1 div.sk-container {/* jupyter's `normalize.less` sets `[hidden] { display: none; }` but bootstrap.min.css set `[hidden] { display: none !important; }` so we also need the `!important` here to be able to override the default hidden behavior on the sphinx rendered scikit-learn.org. See: https://github.com/scikit-learn/scikit-learn/issues/21755 */display: inline-block !important;position: relative;}#sk-container-id-1 div.sk-text-repr-fallback {display: none;}</style><div id=\"sk-container-id-1\" class=\"sk-top-container\"><div class=\"sk-text-repr-fallback\"><pre>PassiveAggressiveClassifier(max_iter=50)</pre><b>In a Jupyter environment, please rerun this cell to show the HTML representation or trust the notebook. <br />On GitHub, the HTML representation is unable to render, please try loading this page with nbviewer.org.</b></div><div class=\"sk-container\" hidden><div class=\"sk-item\"><div class=\"sk-estimator sk-toggleable\"><input class=\"sk-toggleable__control sk-hidden--visually\" id=\"sk-estimator-id-1\" type=\"checkbox\" checked><label for=\"sk-estimator-id-1\" class=\"sk-toggleable__label sk-toggleable__label-arrow\">PassiveAggressiveClassifier</label><div class=\"sk-toggleable__content\"><pre>PassiveAggressiveClassifier(max_iter=50)</pre></div></div></div></div></div>"
      ],
      "text/plain": [
       "PassiveAggressiveClassifier(max_iter=50)"
      ]
     },
     "execution_count": 12,
     "metadata": {},
     "output_type": "execute_result"
    }
   ],
   "source": [
    "PA_classifier=PassiveAggressiveClassifier(max_iter=50)\n",
    "PA_classifier.fit(train_tfid, y_train)"
   ]
  },
  {
   "cell_type": "code",
   "execution_count": 13,
   "id": "102fd59f",
   "metadata": {
    "execution": {
     "iopub.execute_input": "2023-02-08T07:46:36.333576Z",
     "iopub.status.busy": "2023-02-08T07:46:36.332914Z",
     "iopub.status.idle": "2023-02-08T07:46:36.604675Z",
     "shell.execute_reply": "2023-02-08T07:46:36.603519Z"
    },
    "papermill": {
     "duration": 0.283758,
     "end_time": "2023-02-08T07:46:36.607016",
     "exception": false,
     "start_time": "2023-02-08T07:46:36.323258",
     "status": "completed"
    },
    "tags": []
   },
   "outputs": [
    {
     "name": "stdout",
     "output_type": "stream",
     "text": [
      "Classification Report:               precision    recall  f1-score   support\n",
      "\n",
      "           0       0.99      0.99      0.99      3290\n",
      "           1       0.99      0.99      0.99      2996\n",
      "\n",
      "    accuracy                           0.99      6286\n",
      "   macro avg       0.99      0.99      0.99      6286\n",
      "weighted avg       0.99      0.99      0.99      6286\n",
      "\n",
      "Accuracy Score: 0.9925230671333122\n"
     ]
    },
    {
     "data": {
      "image/png": "[encoded data removed]",
      "text/plain": [
       "<Figure size 640x480 with 2 Axes>"
      ]
     },
     "metadata": {},
     "output_type": "display_data"
    }
   ],
   "source": [
    "pa_predict=PA_classifier.predict(test_tfid)\n",
    "print(\"Classification Report:\", classification_report(y_test, pa_predict))\n",
    "print(\"Accuracy Score:\", accuracy_score(y_test, pa_predict))\n",
    "\n",
    "con_pa=confusion_matrix(y_test, pa_predict)\n",
    "con_mat=ConfusionMatrixDisplay(con_pa, display_labels=['Fake','True'])\n",
    "con_mat.plot()\n",
    "plt.show()"
   ]
  },
  {
   "cell_type": "markdown",
   "id": "d3b80d4b",
   "metadata": {
    "papermill": {
     "duration": 0.008111,
     "end_time": "2023-02-08T07:46:36.623761",
     "exception": false,
     "start_time": "2023-02-08T07:46:36.615650",
     "status": "completed"
    },
    "tags": []
   },
   "source": [
    "Wow! look at this, 99.25 % accuracy"
   ]
  },
  {
   "cell_type": "code",
   "execution_count": 14,
   "id": "0a309bc5",
   "metadata": {
    "execution": {
     "iopub.execute_input": "2023-02-08T07:46:36.642876Z",
     "iopub.status.busy": "2023-02-08T07:46:36.641723Z",
     "iopub.status.idle": "2023-02-08T07:46:39.531757Z",
     "shell.execute_reply": "2023-02-08T07:46:39.530207Z"
    },
    "papermill": {
     "duration": 2.904736,
     "end_time": "2023-02-08T07:46:39.536762",
     "exception": false,
     "start_time": "2023-02-08T07:46:36.632026",
     "status": "completed"
    },
    "tags": []
   },
   "outputs": [
    {
     "data": {
      "text/html": [
       "<style>#sk-container-id-2 {color: black;background-color: white;}#sk-container-id-2 pre{padding: 0;}#sk-container-id-2 div.sk-toggleable {background-color: white;}#sk-container-id-2 label.sk-toggleable__label {cursor: pointer;display: block;width: 100%;margin-bottom: 0;padding: 0.3em;box-sizing: border-box;text-align: center;}#sk-container-id-2 label.sk-toggleable__label-arrow:before {content: \"▸\";float: left;margin-right: 0.25em;color: #696969;}#sk-container-id-2 label.sk-toggleable__label-arrow:hover:before {color: black;}#sk-container-id-2 div.sk-estimator:hover label.sk-toggleable__label-arrow:before {color: black;}#sk-container-id-2 div.sk-toggleable__content {max-height: 0;max-width: 0;overflow: hidden;text-align: left;background-color: #f0f8ff;}#sk-container-id-2 div.sk-toggleable__content pre {margin: 0.2em;color: black;border-radius: 0.25em;background-color: #f0f8ff;}#sk-container-id-2 input.sk-toggleable__control:checked~div.sk-toggleable__content {max-height: 200px;max-width: 100%;overflow: auto;}#sk-container-id-2 input.sk-toggleable__control:checked~label.sk-toggleable__label-arrow:before {content: \"▾\";}#sk-container-id-2 div.sk-estimator input.sk-toggleable__control:checked~label.sk-toggleable__label {background-color: #d4ebff;}#sk-container-id-2 div.sk-label input.sk-toggleable__control:checked~label.sk-toggleable__label {background-color: #d4ebff;}#sk-container-id-2 input.sk-hidden--visually {border: 0;clip: rect(1px 1px 1px 1px);clip: rect(1px, 1px, 1px, 1px);height: 1px;margin: -1px;overflow: hidden;padding: 0;position: absolute;width: 1px;}#sk-container-id-2 div.sk-estimator {font-family: monospace;background-color: #f0f8ff;border: 1px dotted black;border-radius: 0.25em;box-sizing: border-box;margin-bottom: 0.5em;}#sk-container-id-2 div.sk-estimator:hover {background-color: #d4ebff;}#sk-container-id-2 div.sk-parallel-item::after {content: \"\";width: 100%;border-bottom: 1px solid gray;flex-grow: 1;}#sk-container-id-2 div.sk-label:hover label.sk-toggleable__label {background-color: #d4ebff;}#sk-container-id-2 div.sk-serial::before {content: \"\";position: absolute;border-left: 1px solid gray;box-sizing: border-box;top: 0;bottom: 0;left: 50%;z-index: 0;}#sk-container-id-2 div.sk-serial {display: flex;flex-direction: column;align-items: center;background-color: white;padding-right: 0.2em;padding-left: 0.2em;position: relative;}#sk-container-id-2 div.sk-item {position: relative;z-index: 1;}#sk-container-id-2 div.sk-parallel {display: flex;align-items: stretch;justify-content: center;background-color: white;position: relative;}#sk-container-id-2 div.sk-item::before, #sk-container-id-2 div.sk-parallel-item::before {content: \"\";position: absolute;border-left: 1px solid gray;box-sizing: border-box;top: 0;bottom: 0;left: 50%;z-index: -1;}#sk-container-id-2 div.sk-parallel-item {display: flex;flex-direction: column;z-index: 1;position: relative;background-color: white;}#sk-container-id-2 div.sk-parallel-item:first-child::after {align-self: flex-end;width: 50%;}#sk-container-id-2 div.sk-parallel-item:last-child::after {align-self: flex-start;width: 50%;}#sk-container-id-2 div.sk-parallel-item:only-child::after {width: 0;}#sk-container-id-2 div.sk-dashed-wrapped {border: 1px dashed gray;margin: 0 0.4em 0.5em 0.4em;box-sizing: border-box;padding-bottom: 0.4em;background-color: white;}#sk-container-id-2 div.sk-label label {font-family: monospace;font-weight: bold;display: inline-block;line-height: 1.2em;}#sk-container-id-2 div.sk-label-container {text-align: center;}#sk-container-id-2 div.sk-container {/* jupyter's `normalize.less` sets `[hidden] { display: none; }` but bootstrap.min.css set `[hidden] { display: none !important; }` so we also need the `!important` here to be able to override the default hidden behavior on the sphinx rendered scikit-learn.org. See: https://github.com/scikit-learn/scikit-learn/issues/21755 */display: inline-block !important;position: relative;}#sk-container-id-2 div.sk-text-repr-fallback {display: none;}</style><div id=\"sk-container-id-2\" class=\"sk-top-container\"><div class=\"sk-text-repr-fallback\"><pre>LogisticRegression()</pre><b>In a Jupyter environment, please rerun this cell to show the HTML representation or trust the notebook. <br />On GitHub, the HTML representation is unable to render, please try loading this page with nbviewer.org.</b></div><div class=\"sk-container\" hidden><div class=\"sk-item\"><div class=\"sk-estimator sk-toggleable\"><input class=\"sk-toggleable__control sk-hidden--visually\" id=\"sk-estimator-id-2\" type=\"checkbox\" checked><label for=\"sk-estimator-id-2\" class=\"sk-toggleable__label sk-toggleable__label-arrow\">LogisticRegression</label><div class=\"sk-toggleable__content\"><pre>LogisticRegression()</pre></div></div></div></div></div>"
      ],
      "text/plain": [
       "LogisticRegression()"
      ]
     },
     "execution_count": 14,
     "metadata": {},
     "output_type": "execute_result"
    }
   ],
   "source": [
    "linear_cl=LogisticRegression()\n",
    "linear_cl.fit(train_tfid,y_train)"
   ]
  },
  {
   "cell_type": "code",
   "execution_count": 15,
   "id": "cdef331c",
   "metadata": {
    "execution": {
     "iopub.execute_input": "2023-02-08T07:46:39.603382Z",
     "iopub.status.busy": "2023-02-08T07:46:39.602685Z",
     "iopub.status.idle": "2023-02-08T07:46:39.859361Z",
     "shell.execute_reply": "2023-02-08T07:46:39.858541Z"
    },
    "papermill": {
     "duration": 0.289432,
     "end_time": "2023-02-08T07:46:39.861637",
     "exception": false,
     "start_time": "2023-02-08T07:46:39.572205",
     "status": "completed"
    },
    "tags": []
   },
   "outputs": [
    {
     "name": "stdout",
     "output_type": "stream",
     "text": [
      "Classification Report:               precision    recall  f1-score   support\n",
      "\n",
      "           0       0.98      0.98      0.98      3290\n",
      "           1       0.98      0.98      0.98      2996\n",
      "\n",
      "    accuracy                           0.98      6286\n",
      "   macro avg       0.98      0.98      0.98      6286\n",
      "weighted avg       0.98      0.98      0.98      6286\n",
      "\n",
      "Accuracy Score: 0.9804327076041998\n"
     ]
    },
    {
     "data": {
      "image/png": "[encoded data removed]",
      "text/plain": [
       "<Figure size 640x480 with 2 Axes>"
      ]
     },
     "metadata": {},
     "output_type": "display_data"
    }
   ],
   "source": [
    "linear_predict=linear_cl.predict(test_tfid)\n",
    "print(\"Classification Report:\", classification_report(y_test, linear_predict))\n",
    "print(\"Accuracy Score:\", accuracy_score(y_test, linear_predict))\n",
    "\n",
    "con_pa=confusion_matrix(y_test, linear_predict)\n",
    "con_mat=ConfusionMatrixDisplay(con_pa, display_labels=['Fake','True'])\n",
    "con_mat.plot()\n",
    "plt.show()"
   ]
  },
  {
   "cell_type": "markdown",
   "id": "62738ec7",
   "metadata": {
    "papermill": {
     "duration": 0.008438,
     "end_time": "2023-02-08T07:46:39.878975",
     "exception": false,
     "start_time": "2023-02-08T07:46:39.870537",
     "status": "completed"
    },
    "tags": []
   },
   "source": [
    "Logistic Regression is working with 98.27 % accuracy"
   ]
  },
  {
   "cell_type": "code",
   "execution_count": 16,
   "id": "b34e4c43",
   "metadata": {
    "execution": {
     "iopub.execute_input": "2023-02-08T07:46:39.898900Z",
     "iopub.status.busy": "2023-02-08T07:46:39.898141Z",
     "iopub.status.idle": "2023-02-08T07:47:04.690445Z",
     "shell.execute_reply": "2023-02-08T07:47:04.689294Z"
    },
    "papermill": {
     "duration": 24.804999,
     "end_time": "2023-02-08T07:47:04.692825",
     "exception": false,
     "start_time": "2023-02-08T07:46:39.887826",
     "status": "completed"
    },
    "tags": []
   },
   "outputs": [
    {
     "data": {
      "text/html": [
       "<style>#sk-container-id-3 {color: black;background-color: white;}#sk-container-id-3 pre{padding: 0;}#sk-container-id-3 div.sk-toggleable {background-color: white;}#sk-container-id-3 label.sk-toggleable__label {cursor: pointer;display: block;width: 100%;margin-bottom: 0;padding: 0.3em;box-sizing: border-box;text-align: center;}#sk-container-id-3 label.sk-toggleable__label-arrow:before {content: \"▸\";float: left;margin-right: 0.25em;color: #696969;}#sk-container-id-3 label.sk-toggleable__label-arrow:hover:before {color: black;}#sk-container-id-3 div.sk-estimator:hover label.sk-toggleable__label-arrow:before {color: black;}#sk-container-id-3 div.sk-toggleable__content {max-height: 0;max-width: 0;overflow: hidden;text-align: left;background-color: #f0f8ff;}#sk-container-id-3 div.sk-toggleable__content pre {margin: 0.2em;color: black;border-radius: 0.25em;background-color: #f0f8ff;}#sk-container-id-3 input.sk-toggleable__control:checked~div.sk-toggleable__content {max-height: 200px;max-width: 100%;overflow: auto;}#sk-container-id-3 input.sk-toggleable__control:checked~label.sk-toggleable__label-arrow:before {content: \"▾\";}#sk-container-id-3 div.sk-estimator input.sk-toggleable__control:checked~label.sk-toggleable__label {background-color: #d4ebff;}#sk-container-id-3 div.sk-label input.sk-toggleable__control:checked~label.sk-toggleable__label {background-color: #d4ebff;}#sk-container-id-3 input.sk-hidden--visually {border: 0;clip: rect(1px 1px 1px 1px);clip: rect(1px, 1px, 1px, 1px);height: 1px;margin: -1px;overflow: hidden;padding: 0;position: absolute;width: 1px;}#sk-container-id-3 div.sk-estimator {font-family: monospace;background-color: #f0f8ff;border: 1px dotted black;border-radius: 0.25em;box-sizing: border-box;margin-bottom: 0.5em;}#sk-container-id-3 div.sk-estimator:hover {background-color: #d4ebff;}#sk-container-id-3 div.sk-parallel-item::after {content: \"\";width: 100%;border-bottom: 1px solid gray;flex-grow: 1;}#sk-container-id-3 div.sk-label:hover label.sk-toggleable__label {background-color: #d4ebff;}#sk-container-id-3 div.sk-serial::before {content: \"\";position: absolute;border-left: 1px solid gray;box-sizing: border-box;top: 0;bottom: 0;left: 50%;z-index: 0;}#sk-container-id-3 div.sk-serial {display: flex;flex-direction: column;align-items: center;background-color: white;padding-right: 0.2em;padding-left: 0.2em;position: relative;}#sk-container-id-3 div.sk-item {position: relative;z-index: 1;}#sk-container-id-3 div.sk-parallel {display: flex;align-items: stretch;justify-content: center;background-color: white;position: relative;}#sk-container-id-3 div.sk-item::before, #sk-container-id-3 div.sk-parallel-item::before {content: \"\";position: absolute;border-left: 1px solid gray;box-sizing: border-box;top: 0;bottom: 0;left: 50%;z-index: -1;}#sk-container-id-3 div.sk-parallel-item {display: flex;flex-direction: column;z-index: 1;position: relative;background-color: white;}#sk-container-id-3 div.sk-parallel-item:first-child::after {align-self: flex-end;width: 50%;}#sk-container-id-3 div.sk-parallel-item:last-child::after {align-self: flex-start;width: 50%;}#sk-container-id-3 div.sk-parallel-item:only-child::after {width: 0;}#sk-container-id-3 div.sk-dashed-wrapped {border: 1px dashed gray;margin: 0 0.4em 0.5em 0.4em;box-sizing: border-box;padding-bottom: 0.4em;background-color: white;}#sk-container-id-3 div.sk-label label {font-family: monospace;font-weight: bold;display: inline-block;line-height: 1.2em;}#sk-container-id-3 div.sk-label-container {text-align: center;}#sk-container-id-3 div.sk-container {/* jupyter's `normalize.less` sets `[hidden] { display: none; }` but bootstrap.min.css set `[hidden] { display: none !important; }` so we also need the `!important` here to be able to override the default hidden behavior on the sphinx rendered scikit-learn.org. See: https://github.com/scikit-learn/scikit-learn/issues/21755 */display: inline-block !important;position: relative;}#sk-container-id-3 div.sk-text-repr-fallback {display: none;}</style><div id=\"sk-container-id-3\" class=\"sk-top-container\"><div class=\"sk-text-repr-fallback\"><pre>DecisionTreeClassifier()</pre><b>In a Jupyter environment, please rerun this cell to show the HTML representation or trust the notebook. <br />On GitHub, the HTML representation is unable to render, please try loading this page with nbviewer.org.</b></div><div class=\"sk-container\" hidden><div class=\"sk-item\"><div class=\"sk-estimator sk-toggleable\"><input class=\"sk-toggleable__control sk-hidden--visually\" id=\"sk-estimator-id-3\" type=\"checkbox\" checked><label for=\"sk-estimator-id-3\" class=\"sk-toggleable__label sk-toggleable__label-arrow\">DecisionTreeClassifier</label><div class=\"sk-toggleable__content\"><pre>DecisionTreeClassifier()</pre></div></div></div></div></div>"
      ],
      "text/plain": [
       "DecisionTreeClassifier()"
      ]
     },
     "execution_count": 16,
     "metadata": {},
     "output_type": "execute_result"
    }
   ],
   "source": [
    "tree_model=DecisionTreeClassifier()\n",
    "tree_model.fit(train_tfid, y_train)"
   ]
  },
  {
   "cell_type": "code",
   "execution_count": 17,
   "id": "4a09c3eb",
   "metadata": {
    "execution": {
     "iopub.execute_input": "2023-02-08T07:47:04.712490Z",
     "iopub.status.busy": "2023-02-08T07:47:04.712066Z",
     "iopub.status.idle": "2023-02-08T07:47:04.979244Z",
     "shell.execute_reply": "2023-02-08T07:47:04.978101Z"
    },
    "papermill": {
     "duration": 0.279977,
     "end_time": "2023-02-08T07:47:04.981553",
     "exception": false,
     "start_time": "2023-02-08T07:47:04.701576",
     "status": "completed"
    },
    "tags": []
   },
   "outputs": [
    {
     "name": "stdout",
     "output_type": "stream",
     "text": [
      "Classification Report:               precision    recall  f1-score   support\n",
      "\n",
      "           0       0.99      1.00      0.99      3290\n",
      "           1       0.99      0.99      0.99      2996\n",
      "\n",
      "    accuracy                           0.99      6286\n",
      "   macro avg       0.99      0.99      0.99      6286\n",
      "weighted avg       0.99      0.99      0.99      6286\n",
      "\n",
      "Accuracy Score: 0.9944320712694877\n"
     ]
    },
    {
     "data": {
      "image/png": "[encoded data removed]",
      "text/plain": [
       "<Figure size 640x480 with 2 Axes>"
      ]
     },
     "metadata": {},
     "output_type": "display_data"
    }
   ],
   "source": [
    "tree_predict=tree_model.predict(test_tfid)\n",
    "print(\"Classification Report:\", classification_report(y_test, tree_predict))\n",
    "print(\"Accuracy Score:\", accuracy_score(y_test, tree_predict))\n",
    "\n",
    "con_pa=confusion_matrix(y_test, tree_predict)\n",
    "con_mat=ConfusionMatrixDisplay(con_pa, display_labels=['Fake','True'])\n",
    "con_mat.plot()\n",
    "plt.show()"
   ]
  },
  {
   "cell_type": "markdown",
   "id": "ba28a660",
   "metadata": {
    "papermill": {
     "duration": 0.008992,
     "end_time": "2023-02-08T07:47:04.999980",
     "exception": false,
     "start_time": "2023-02-08T07:47:04.990988",
     "status": "completed"
    },
    "tags": []
   },
   "source": [
    "Decision Tree model is working with 99.36 % accuracy"
   ]
  },
  {
   "cell_type": "code",
   "execution_count": 18,
   "id": "62d5c146",
   "metadata": {
    "execution": {
     "iopub.execute_input": "2023-02-08T07:14:09.913267Z",
     "iopub.status.busy": "2023-02-08T07:14:09.912845Z",
     "iopub.status.idle": "2023-02-08T07:14:52.018128Z",
     "shell.execute_reply": "2023-02-08T07:14:52.017198Z",
     "shell.execute_reply.started": "2023-02-08T07:14:09.913233Z"
    },
    "papermill": {
     "duration": null,
     "end_time": null,
     "exception": null,
     "start_time": null,
     "status": "pending"
    },
    "tags": []
   },
   "outputs": [
    {
     "data": {
      "text/html": [
       "<style>#sk-container-id-4 {color: black;background-color: white;}#sk-container-id-4 pre{padding: 0;}#sk-container-id-4 div.sk-toggleable {background-color: white;}#sk-container-id-4 label.sk-toggleable__label {cursor: pointer;display: block;width: 100%;margin-bottom: 0;padding: 0.3em;box-sizing: border-box;text-align: center;}#sk-container-id-4 label.sk-toggleable__label-arrow:before {content: \"▸\";float: left;margin-right: 0.25em;color: #696969;}#sk-container-id-4 label.sk-toggleable__label-arrow:hover:before {color: black;}#sk-container-id-4 div.sk-estimator:hover label.sk-toggleable__label-arrow:before {color: black;}#sk-container-id-4 div.sk-toggleable__content {max-height: 0;max-width: 0;overflow: hidden;text-align: left;background-color: #f0f8ff;}#sk-container-id-4 div.sk-toggleable__content pre {margin: 0.2em;color: black;border-radius: 0.25em;background-color: #f0f8ff;}#sk-container-id-4 input.sk-toggleable__control:checked~div.sk-toggleable__content {max-height: 200px;max-width: 100%;overflow: auto;}#sk-container-id-4 input.sk-toggleable__control:checked~label.sk-toggleable__label-arrow:before {content: \"▾\";}#sk-container-id-4 div.sk-estimator input.sk-toggleable__control:checked~label.sk-toggleable__label {background-color: #d4ebff;}#sk-container-id-4 div.sk-label input.sk-toggleable__control:checked~label.sk-toggleable__label {background-color: #d4ebff;}#sk-container-id-4 input.sk-hidden--visually {border: 0;clip: rect(1px 1px 1px 1px);clip: rect(1px, 1px, 1px, 1px);height: 1px;margin: -1px;overflow: hidden;padding: 0;position: absolute;width: 1px;}#sk-container-id-4 div.sk-estimator {font-family: monospace;background-color: #f0f8ff;border: 1px dotted black;border-radius: 0.25em;box-sizing: border-box;margin-bottom: 0.5em;}#sk-container-id-4 div.sk-estimator:hover {background-color: #d4ebff;}#sk-container-id-4 div.sk-parallel-item::after {content: \"\";width: 100%;border-bottom: 1px solid gray;flex-grow: 1;}#sk-container-id-4 div.sk-label:hover label.sk-toggleable__label {background-color: #d4ebff;}#sk-container-id-4 div.sk-serial::before {content: \"\";position: absolute;border-left: 1px solid gray;box-sizing: border-box;top: 0;bottom: 0;left: 50%;z-index: 0;}#sk-container-id-4 div.sk-serial {display: flex;flex-direction: column;align-items: center;background-color: white;padding-right: 0.2em;padding-left: 0.2em;position: relative;}#sk-container-id-4 div.sk-item {position: relative;z-index: 1;}#sk-container-id-4 div.sk-parallel {display: flex;align-items: stretch;justify-content: center;background-color: white;position: relative;}#sk-container-id-4 div.sk-item::before, #sk-container-id-4 div.sk-parallel-item::before {content: \"\";position: absolute;border-left: 1px solid gray;box-sizing: border-box;top: 0;bottom: 0;left: 50%;z-index: -1;}#sk-container-id-4 div.sk-parallel-item {display: flex;flex-direction: column;z-index: 1;position: relative;background-color: white;}#sk-container-id-4 div.sk-parallel-item:first-child::after {align-self: flex-end;width: 50%;}#sk-container-id-4 div.sk-parallel-item:last-child::after {align-self: flex-start;width: 50%;}#sk-container-id-4 div.sk-parallel-item:only-child::after {width: 0;}#sk-container-id-4 div.sk-dashed-wrapped {border: 1px dashed gray;margin: 0 0.4em 0.5em 0.4em;box-sizing: border-box;padding-bottom: 0.4em;background-color: white;}#sk-container-id-4 div.sk-label label {font-family: monospace;font-weight: bold;display: inline-block;line-height: 1.2em;}#sk-container-id-4 div.sk-label-container {text-align: center;}#sk-container-id-4 div.sk-container {/* jupyter's `normalize.less` sets `[hidden] { display: none; }` but bootstrap.min.css set `[hidden] { display: none !important; }` so we also need the `!important` here to be able to override the default hidden behavior on the sphinx rendered scikit-learn.org. See: https://github.com/scikit-learn/scikit-learn/issues/21755 */display: inline-block !important;position: relative;}#sk-container-id-4 div.sk-text-repr-fallback {display: none;}</style><div id=\"sk-container-id-4\" class=\"sk-top-container\"><div class=\"sk-text-repr-fallback\"><pre>XGBClassifier(base_score=0.5, booster=&#x27;gbtree&#x27;, callbacks=None,\n",
       "              colsample_bylevel=1, colsample_bynode=1, colsample_bytree=1,\n",
       "              early_stopping_rounds=None, enable_categorical=False,\n",
       "              eval_metric=None, feature_types=None, gamma=0, gpu_id=-1,\n",
       "              grow_policy=&#x27;depthwise&#x27;, importance_type=None,\n",
       "              interaction_constraints=&#x27;&#x27;, learning_rate=0.300000012,\n",
       "              max_bin=256, max_cat_threshold=64, max_cat_to_onehot=4,\n",
       "              max_delta_step=0, max_depth=6, max_leaves=0, min_child_weight=1,\n",
       "              missing=nan, monotone_constraints=&#x27;()&#x27;, n_estimators=100,\n",
       "              n_jobs=0, num_parallel_tree=1, predictor=&#x27;auto&#x27;, random_state=0, ...)</pre><b>In a Jupyter environment, please rerun this cell to show the HTML representation or trust the notebook. <br />On GitHub, the HTML representation is unable to render, please try loading this page with nbviewer.org.</b></div><div class=\"sk-container\" hidden><div class=\"sk-item\"><div class=\"sk-estimator sk-toggleable\"><input class=\"sk-toggleable__control sk-hidden--visually\" id=\"sk-estimator-id-4\" type=\"checkbox\" checked><label for=\"sk-estimator-id-4\" class=\"sk-toggleable__label sk-toggleable__label-arrow\">XGBClassifier</label><div class=\"sk-toggleable__content\"><pre>XGBClassifier(base_score=0.5, booster=&#x27;gbtree&#x27;, callbacks=None,\n",
       "              colsample_bylevel=1, colsample_bynode=1, colsample_bytree=1,\n",
       "              early_stopping_rounds=None, enable_categorical=False,\n",
       "              eval_metric=None, feature_types=None, gamma=0, gpu_id=-1,\n",
       "              grow_policy=&#x27;depthwise&#x27;, importance_type=None,\n",
       "              interaction_constraints=&#x27;&#x27;, learning_rate=0.300000012,\n",
       "              max_bin=256, max_cat_threshold=64, max_cat_to_onehot=4,\n",
       "              max_delta_step=0, max_depth=6, max_leaves=0, min_child_weight=1,\n",
       "              missing=nan, monotone_constraints=&#x27;()&#x27;, n_estimators=100,\n",
       "              n_jobs=0, num_parallel_tree=1, predictor=&#x27;auto&#x27;, random_state=0, ...)</pre></div></div></div></div></div>"
      ],
      "text/plain": [
       "XGBClassifier(base_score=0.5, booster='gbtree', callbacks=None,\n",
       "              colsample_bylevel=1, colsample_bynode=1, colsample_bytree=1,\n",
       "              early_stopping_rounds=None, enable_categorical=False,\n",
       "              eval_metric=None, feature_types=None, gamma=0, gpu_id=-1,\n",
       "              grow_policy='depthwise', importance_type=None,\n",
       "              interaction_constraints='', learning_rate=0.300000012,\n",
       "              max_bin=256, max_cat_threshold=64, max_cat_to_onehot=4,\n",
       "              max_delta_step=0, max_depth=6, max_leaves=0, min_child_weight=1,\n",
       "              missing=nan, monotone_constraints='()', n_estimators=100,\n",
       "              n_jobs=0, num_parallel_tree=1, predictor='auto', random_state=0, ...)"
      ]
     },
     "execution_count": 18,
     "metadata": {},
     "output_type": "execute_result"
    }
   ],
   "source": [
    "xgboost_model=XGBClassifier()\n",
    "xgboost_model.fit(train_tfid,y_train)"
   ]
  },
  {
   "cell_type": "code",
   "execution_count": 19,
   "id": "80f24483",
   "metadata": {
    "execution": {
     "iopub.execute_input": "2023-02-08T07:15:10.757248Z",
     "iopub.status.busy": "2023-02-08T07:15:10.756776Z",
     "iopub.status.idle": "2023-02-08T07:15:11.049293Z",
     "shell.execute_reply": "2023-02-08T07:15:11.047906Z",
     "shell.execute_reply.started": "2023-02-08T07:15:10.757214Z"
    },
    "papermill": {
     "duration": null,
     "end_time": null,
     "exception": null,
     "start_time": null,
     "status": "pending"
    },
    "tags": []
   },
   "outputs": [
    {
     "name": "stdout",
     "output_type": "stream",
     "text": [
      "Classification Report:               precision    recall  f1-score   support\n",
      "\n",
      "           0       1.00      1.00      1.00      3290\n",
      "           1       1.00      1.00      1.00      2996\n",
      "\n",
      "    accuracy                           1.00      6286\n",
      "   macro avg       1.00      1.00      1.00      6286\n",
      "weighted avg       1.00      1.00      1.00      6286\n",
      "\n",
      "Accuracy Score: 0.9968183264397072\n"
     ]
    },
    {
     "data": {
      "image/png": "[encoded data removed]",
      "text/plain": [
       "<Figure size 640x480 with 2 Axes>"
      ]
     },
     "metadata": {},
     "output_type": "display_data"
    }
   ],
   "source": [
    "xgb_predict=xgboost_model.predict(test_tfid)\n",
    "print(\"Classification Report:\", classification_report(y_test, xgb_predict))\n",
    "print(\"Accuracy Score:\", accuracy_score(y_test, xgb_predict))\n",
    "\n",
    "con_pa=confusion_matrix(y_test, xgb_predict)\n",
    "con_mat=ConfusionMatrixDisplay(con_pa, display_labels=['Fake','True'])\n",
    "con_mat.plot()\n",
    "plt.show()"
   ]
  },
  {
   "cell_type": "code",
   "execution_count": 21,
   "id": "c7911eb4",
   "metadata": {
    "papermill": {
     "duration": null,
     "end_time": null,
     "exception": null,
     "start_time": null,
     "status": "pending"
    },
    "tags": []
   },
   "outputs": [],
   "source": [
    "import pickle\n",
    "pickle.dump(xgboost_model,open(\"modell.pkl\",\"wb\"))"
   ]
  }
 ],
 "metadata": {
  "kernelspec": {
   "display_name": "Python 3 (ipykernel)",
   "language": "python",
   "name": "python3"
  },
  "language_info": {
   "codemirror_mode": {
    "name": "ipython",
    "version": 3
   },
   "file_extension": ".py",
   "mimetype": "text/x-python",
   "name": "python",
   "nbconvert_exporter": "python",
   "pygments_lexer": "ipython3",
   "version": "3.10.9"
  },
  "papermill": {
   "default_parameters": {},
   "duration": 52.73939,
   "end_time": "2023-02-08T07:47:05.963607",
   "environment_variables": {},
   "exception": true,
   "input_path": "__notebook__.ipynb",
   "output_path": "__notebook__.ipynb",
   "parameters": {},
   "start_time": "2023-02-08T07:46:13.224217",
   "version": "2.3.4"
  }
 },
 "nbformat": 4,
 "nbformat_minor": 5
}
